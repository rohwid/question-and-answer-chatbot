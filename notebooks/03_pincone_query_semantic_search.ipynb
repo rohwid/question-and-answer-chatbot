{
 "cells": [
  {
   "cell_type": "code",
   "execution_count": 1,
   "metadata": {},
   "outputs": [],
   "source": [
    "import os\n",
    "import time\n",
    "\n",
    "from langchain_openai import OpenAIEmbeddings\n",
    "from pinecone import Pinecone"
   ]
  },
  {
   "cell_type": "code",
   "execution_count": 2,
   "metadata": {},
   "outputs": [
    {
     "data": {
      "text/plain": [
       "'/home/rohwid/GitHub/question-and-answer-chatbot/notebooks'"
      ]
     },
     "execution_count": 2,
     "metadata": {},
     "output_type": "execute_result"
    }
   ],
   "source": [
    "%pwd"
   ]
  },
  {
   "cell_type": "code",
   "execution_count": 3,
   "metadata": {},
   "outputs": [],
   "source": [
    "# Change to the main directory\n",
    "# So, it's executed from main directory\n",
    "os.chdir(\"../\")"
   ]
  },
  {
   "cell_type": "code",
   "execution_count": 4,
   "metadata": {},
   "outputs": [
    {
     "data": {
      "text/plain": [
       "'/home/rohwid/GitHub/question-and-answer-chatbot'"
      ]
     },
     "execution_count": 4,
     "metadata": {},
     "output_type": "execute_result"
    }
   ],
   "source": [
    "%pwd"
   ]
  },
  {
   "cell_type": "code",
   "execution_count": 5,
   "metadata": {},
   "outputs": [],
   "source": [
    "with open('.env') as f:\n",
    "    os.environ.update(\n",
    "        line.strip().split('=') for line in f\n",
    ")"
   ]
  },
  {
   "cell_type": "code",
   "execution_count": 6,
   "metadata": {},
   "outputs": [],
   "source": [
    "OPENAI_API_KEY = os.environ.get('OPENAI_API_KEY')\n",
    "PINECONE_API_KEY = os.environ.get('PINECONE_API_KEY')\n",
    "PINECONE_INDEX = os.environ.get('PINECONE_INDEX')"
   ]
  },
  {
   "cell_type": "code",
   "execution_count": 7,
   "metadata": {},
   "outputs": [],
   "source": [
    "pincone = Pinecone(api_key=PINECONE_API_KEY)\n",
    "index = pincone.Index(PINECONE_INDEX)\n",
    "\n",
    "embeddings = OpenAIEmbeddings(model=\"text-embedding-3-large\", dimensions=1536)\n",
    "\n",
    "query = \"What are the specific features or aspects that users appreciate the most in our application?\"\n",
    "\n",
    "docs = []\n",
    "\n",
    "namespace = \"ns-0\"\n",
    "\n",
    "try:\n",
    "    embedded_query = embeddings.embed_query(query)\n",
    "    vectors = index.query(\n",
    "        namespace=namespace,\n",
    "        vector=embedded_query,\n",
    "        top_k=5,\n",
    "        include_values=True\n",
    "    )\n",
    "    \n",
    "    vector_ids = [vector['id'] for vector in vectors['matches']]\n",
    "    result = index.fetch(ids=vector_ids, namespace=namespace)\n",
    "except Exception as err:\n",
    "    raise(err)\n",
    "else:\n",
    "    if not vectors:\n",
    "        raise Exception('No vectors found. Wrong namespace or credentials!')\n",
    "    for id in vector_ids:\n",
    "        docs.append(result['vectors'][id]['metadata']['text'])"
   ]
  },
  {
   "cell_type": "code",
   "execution_count": 8,
   "metadata": {},
   "outputs": [
    {
     "data": {
      "text/plain": [
       "['google_store_review_comments: Awesome UI, best music app out there!',\n",
       " 'google_store_review_comments: I enjoy the awesome UI of this app, and it has all the music one can ask for.',\n",
       " 'google_store_review_comments: Excellent music app',\n",
       " 'google_store_review_comments: Just started using this app n loving it already  Keep up the great work',\n",
       " 'google_store_review_comments: Use it every day']"
      ]
     },
     "execution_count": 8,
     "metadata": {},
     "output_type": "execute_result"
    }
   ],
   "source": [
    "docs"
   ]
  }
 ],
 "metadata": {
  "kernelspec": {
   "display_name": ".qna-chatbot-venv",
   "language": "python",
   "name": "python3"
  },
  "language_info": {
   "codemirror_mode": {
    "name": "ipython",
    "version": 3
   },
   "file_extension": ".py",
   "mimetype": "text/x-python",
   "name": "python",
   "nbconvert_exporter": "python",
   "pygments_lexer": "ipython3",
   "version": "3.10.12"
  }
 },
 "nbformat": 4,
 "nbformat_minor": 2
}
