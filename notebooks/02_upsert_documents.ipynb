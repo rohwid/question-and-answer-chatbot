{
 "cells": [
  {
   "cell_type": "code",
   "execution_count": 1,
   "metadata": {},
   "outputs": [],
   "source": [
    "import os\n",
    "import pandas as pd\n",
    "import yaml"
   ]
  },
  {
   "cell_type": "code",
   "execution_count": 2,
   "metadata": {},
   "outputs": [
    {
     "data": {
      "text/plain": [
       "'/home/rohwid/GitHub/question-and-answer-chatbot/notebooks'"
      ]
     },
     "execution_count": 2,
     "metadata": {},
     "output_type": "execute_result"
    }
   ],
   "source": [
    "%pwd"
   ]
  },
  {
   "cell_type": "code",
   "execution_count": 3,
   "metadata": {},
   "outputs": [],
   "source": [
    "# Change to the main directory\n",
    "# So, it's executed from main directory\n",
    "os.chdir(\"../\")"
   ]
  },
  {
   "cell_type": "code",
   "execution_count": 4,
   "metadata": {},
   "outputs": [
    {
     "data": {
      "text/plain": [
       "'/home/rohwid/GitHub/question-and-answer-chatbot'"
      ]
     },
     "execution_count": 4,
     "metadata": {},
     "output_type": "execute_result"
    }
   ],
   "source": [
    "%pwd"
   ]
  },
  {
   "cell_type": "code",
   "execution_count": 5,
   "metadata": {},
   "outputs": [],
   "source": [
    "f = open('config/config.yml', 'r')\n",
    "config = yaml.load(f, Loader=yaml.SafeLoader)\n",
    "f.close()"
   ]
  },
  {
   "cell_type": "markdown",
   "metadata": {},
   "source": [
    "Check the dataset content."
   ]
  },
  {
   "cell_type": "code",
   "execution_count": 6,
   "metadata": {},
   "outputs": [
    {
     "data": {
      "text/html": [
       "<div>\n",
       "<style scoped>\n",
       "    .dataframe tbody tr th:only-of-type {\n",
       "        vertical-align: middle;\n",
       "    }\n",
       "\n",
       "    .dataframe tbody tr th {\n",
       "        vertical-align: top;\n",
       "    }\n",
       "\n",
       "    .dataframe thead th {\n",
       "        text-align: right;\n",
       "    }\n",
       "</style>\n",
       "<table border=\"1\" class=\"dataframe\">\n",
       "  <thead>\n",
       "    <tr style=\"text-align: right;\">\n",
       "      <th></th>\n",
       "      <th>Unnamed: 0</th>\n",
       "      <th>review_id</th>\n",
       "      <th>pseudo_author_id</th>\n",
       "      <th>author_name</th>\n",
       "      <th>review_text</th>\n",
       "      <th>review_rating</th>\n",
       "      <th>review_likes</th>\n",
       "      <th>author_app_version</th>\n",
       "      <th>review_timestamp</th>\n",
       "    </tr>\n",
       "  </thead>\n",
       "  <tbody>\n",
       "    <tr>\n",
       "      <th>0</th>\n",
       "      <td>0</td>\n",
       "      <td>14a011a8-7544-47b4-8480-c502af0ac26f</td>\n",
       "      <td>152618553977019693742</td>\n",
       "      <td>A Google user</td>\n",
       "      <td>Use it every day</td>\n",
       "      <td>5</td>\n",
       "      <td>1</td>\n",
       "      <td>1.1.0.91</td>\n",
       "      <td>2014-05-27 14:21:48</td>\n",
       "    </tr>\n",
       "    <tr>\n",
       "      <th>1</th>\n",
       "      <td>1</td>\n",
       "      <td>bfa8876b-470e-4640-83a7-77427f7f37e8</td>\n",
       "      <td>234382942865437071667</td>\n",
       "      <td>A Google user</td>\n",
       "      <td>I enjoy the awesome UI of this app, and it has...</td>\n",
       "      <td>5</td>\n",
       "      <td>4</td>\n",
       "      <td>1.1.0.91</td>\n",
       "      <td>2014-05-27 14:36:02</td>\n",
       "    </tr>\n",
       "    <tr>\n",
       "      <th>2</th>\n",
       "      <td>2</td>\n",
       "      <td>70e8252f-058a-47d9-b066-df9e1571c970</td>\n",
       "      <td>174473604608358796368</td>\n",
       "      <td>A Google user</td>\n",
       "      <td>Love it! Especially the new design!</td>\n",
       "      <td>5</td>\n",
       "      <td>2</td>\n",
       "      <td>1.1.0.91</td>\n",
       "      <td>2014-05-27 14:40:01</td>\n",
       "    </tr>\n",
       "    <tr>\n",
       "      <th>3</th>\n",
       "      <td>3</td>\n",
       "      <td>672a155a-e81e-4d28-bdeb-a74c031bc072</td>\n",
       "      <td>286593453219054880269</td>\n",
       "      <td>A Google user</td>\n",
       "      <td>Awesome UI, best music app out there!</td>\n",
       "      <td>5</td>\n",
       "      <td>1</td>\n",
       "      <td>1.1.0.91</td>\n",
       "      <td>2014-05-27 15:17:20</td>\n",
       "    </tr>\n",
       "    <tr>\n",
       "      <th>4</th>\n",
       "      <td>4</td>\n",
       "      <td>bbc1bf95-ed36-41a1-8b98-0f2e314caea5</td>\n",
       "      <td>167276875678680630145</td>\n",
       "      <td>A Google user</td>\n",
       "      <td>As a professional Android developer I'm glad t...</td>\n",
       "      <td>5</td>\n",
       "      <td>10</td>\n",
       "      <td>1.1.0.91</td>\n",
       "      <td>2014-05-27 15:26:48</td>\n",
       "    </tr>\n",
       "    <tr>\n",
       "      <th>...</th>\n",
       "      <td>...</td>\n",
       "      <td>...</td>\n",
       "      <td>...</td>\n",
       "      <td>...</td>\n",
       "      <td>...</td>\n",
       "      <td>...</td>\n",
       "      <td>...</td>\n",
       "      <td>...</td>\n",
       "      <td>...</td>\n",
       "    </tr>\n",
       "    <tr>\n",
       "      <th>3377418</th>\n",
       "      <td>3377418</td>\n",
       "      <td>41cafb32-c357-48df-97a3-e3867584f0d6</td>\n",
       "      <td>326345911143311484421</td>\n",
       "      <td>su************to</td>\n",
       "      <td>Does not work, always says no internet but U t...</td>\n",
       "      <td>1</td>\n",
       "      <td>0</td>\n",
       "      <td>8.8.82.634</td>\n",
       "      <td>2023-11-15 23:11:02</td>\n",
       "    </tr>\n",
       "    <tr>\n",
       "      <th>3377419</th>\n",
       "      <td>3377419</td>\n",
       "      <td>ad68b04a-ff48-42f6-992b-bd765cdf9e94</td>\n",
       "      <td>322218874321066319125</td>\n",
       "      <td>Pe*******os</td>\n",
       "      <td>Goodjob</td>\n",
       "      <td>5</td>\n",
       "      <td>0</td>\n",
       "      <td>8.8.82.634</td>\n",
       "      <td>2023-11-15 23:11:29</td>\n",
       "    </tr>\n",
       "    <tr>\n",
       "      <th>3377420</th>\n",
       "      <td>3377420</td>\n",
       "      <td>9c36196d-12bc-4049-b7e4-27774a644bed</td>\n",
       "      <td>212802607434520579896</td>\n",
       "      <td>An*********ey</td>\n",
       "      <td>The blues always pull me through.</td>\n",
       "      <td>5</td>\n",
       "      <td>0</td>\n",
       "      <td>8.8.82.634</td>\n",
       "      <td>2023-11-15 23:11:32</td>\n",
       "    </tr>\n",
       "    <tr>\n",
       "      <th>3377421</th>\n",
       "      <td>3377421</td>\n",
       "      <td>ce45e1f8-78ad-40cc-a33b-d4e4672b8c78</td>\n",
       "      <td>415238355983315158902</td>\n",
       "      <td>St***en</td>\n",
       "      <td>awesome but you can't choose your song sometimes</td>\n",
       "      <td>4</td>\n",
       "      <td>0</td>\n",
       "      <td>8.8.82.634</td>\n",
       "      <td>2023-11-15 23:15:45</td>\n",
       "    </tr>\n",
       "    <tr>\n",
       "      <th>3377422</th>\n",
       "      <td>3377422</td>\n",
       "      <td>be4f53b5-8137-45db-a652-265d0518a174</td>\n",
       "      <td>325323583553822680222</td>\n",
       "      <td>Su***ha</td>\n",
       "      <td>Ads again again n again ...worst app</td>\n",
       "      <td>1</td>\n",
       "      <td>0</td>\n",
       "      <td>8.8.82.634</td>\n",
       "      <td>2023-11-15 23:16:10</td>\n",
       "    </tr>\n",
       "  </tbody>\n",
       "</table>\n",
       "<p>3377423 rows × 9 columns</p>\n",
       "</div>"
      ],
      "text/plain": [
       "         Unnamed: 0                             review_id  \\\n",
       "0                 0  14a011a8-7544-47b4-8480-c502af0ac26f   \n",
       "1                 1  bfa8876b-470e-4640-83a7-77427f7f37e8   \n",
       "2                 2  70e8252f-058a-47d9-b066-df9e1571c970   \n",
       "3                 3  672a155a-e81e-4d28-bdeb-a74c031bc072   \n",
       "4                 4  bbc1bf95-ed36-41a1-8b98-0f2e314caea5   \n",
       "...             ...                                   ...   \n",
       "3377418     3377418  41cafb32-c357-48df-97a3-e3867584f0d6   \n",
       "3377419     3377419  ad68b04a-ff48-42f6-992b-bd765cdf9e94   \n",
       "3377420     3377420  9c36196d-12bc-4049-b7e4-27774a644bed   \n",
       "3377421     3377421  ce45e1f8-78ad-40cc-a33b-d4e4672b8c78   \n",
       "3377422     3377422  be4f53b5-8137-45db-a652-265d0518a174   \n",
       "\n",
       "              pseudo_author_id       author_name  \\\n",
       "0        152618553977019693742     A Google user   \n",
       "1        234382942865437071667     A Google user   \n",
       "2        174473604608358796368     A Google user   \n",
       "3        286593453219054880269     A Google user   \n",
       "4        167276875678680630145     A Google user   \n",
       "...                        ...               ...   \n",
       "3377418  326345911143311484421  su************to   \n",
       "3377419  322218874321066319125       Pe*******os   \n",
       "3377420  212802607434520579896     An*********ey   \n",
       "3377421  415238355983315158902           St***en   \n",
       "3377422  325323583553822680222           Su***ha   \n",
       "\n",
       "                                               review_text  review_rating  \\\n",
       "0                                         Use it every day              5   \n",
       "1        I enjoy the awesome UI of this app, and it has...              5   \n",
       "2                      Love it! Especially the new design!              5   \n",
       "3                    Awesome UI, best music app out there!              5   \n",
       "4        As a professional Android developer I'm glad t...              5   \n",
       "...                                                    ...            ...   \n",
       "3377418  Does not work, always says no internet but U t...              1   \n",
       "3377419                                            Goodjob              5   \n",
       "3377420                  The blues always pull me through.              5   \n",
       "3377421   awesome but you can't choose your song sometimes              4   \n",
       "3377422               Ads again again n again ...worst app              1   \n",
       "\n",
       "         review_likes author_app_version     review_timestamp  \n",
       "0                   1           1.1.0.91  2014-05-27 14:21:48  \n",
       "1                   4           1.1.0.91  2014-05-27 14:36:02  \n",
       "2                   2           1.1.0.91  2014-05-27 14:40:01  \n",
       "3                   1           1.1.0.91  2014-05-27 15:17:20  \n",
       "4                  10           1.1.0.91  2014-05-27 15:26:48  \n",
       "...               ...                ...                  ...  \n",
       "3377418             0         8.8.82.634  2023-11-15 23:11:02  \n",
       "3377419             0         8.8.82.634  2023-11-15 23:11:29  \n",
       "3377420             0         8.8.82.634  2023-11-15 23:11:32  \n",
       "3377421             0         8.8.82.634  2023-11-15 23:15:45  \n",
       "3377422             0         8.8.82.634  2023-11-15 23:16:10  \n",
       "\n",
       "[3377423 rows x 9 columns]"
      ]
     },
     "execution_count": 6,
     "metadata": {},
     "output_type": "execute_result"
    }
   ],
   "source": [
    "df = pd.read_csv(config['dataset'])\n",
    "df"
   ]
  },
  {
   "cell_type": "code",
   "execution_count": 7,
   "metadata": {},
   "outputs": [
    {
     "data": {
      "text/html": [
       "<div>\n",
       "<style scoped>\n",
       "    .dataframe tbody tr th:only-of-type {\n",
       "        vertical-align: middle;\n",
       "    }\n",
       "\n",
       "    .dataframe tbody tr th {\n",
       "        vertical-align: top;\n",
       "    }\n",
       "\n",
       "    .dataframe thead th {\n",
       "        text-align: right;\n",
       "    }\n",
       "</style>\n",
       "<table border=\"1\" class=\"dataframe\">\n",
       "  <thead>\n",
       "    <tr style=\"text-align: right;\">\n",
       "      <th></th>\n",
       "      <th>review_id</th>\n",
       "      <th>pseudo_author_id</th>\n",
       "      <th>author_name</th>\n",
       "      <th>google_store_review_comments</th>\n",
       "      <th>review_rating</th>\n",
       "      <th>review_likes</th>\n",
       "      <th>author_app_version</th>\n",
       "      <th>review_timestamp</th>\n",
       "    </tr>\n",
       "  </thead>\n",
       "  <tbody>\n",
       "    <tr>\n",
       "      <th>0</th>\n",
       "      <td>14a011a8-7544-47b4-8480-c502af0ac26f</td>\n",
       "      <td>152618553977019693742</td>\n",
       "      <td>A Google user</td>\n",
       "      <td>Use it every day</td>\n",
       "      <td>5</td>\n",
       "      <td>1</td>\n",
       "      <td>1.1.0.91</td>\n",
       "      <td>2014-05-27 14:21:48</td>\n",
       "    </tr>\n",
       "    <tr>\n",
       "      <th>1</th>\n",
       "      <td>bfa8876b-470e-4640-83a7-77427f7f37e8</td>\n",
       "      <td>234382942865437071667</td>\n",
       "      <td>A Google user</td>\n",
       "      <td>I enjoy the awesome UI of this app, and it has...</td>\n",
       "      <td>5</td>\n",
       "      <td>4</td>\n",
       "      <td>1.1.0.91</td>\n",
       "      <td>2014-05-27 14:36:02</td>\n",
       "    </tr>\n",
       "    <tr>\n",
       "      <th>2</th>\n",
       "      <td>70e8252f-058a-47d9-b066-df9e1571c970</td>\n",
       "      <td>174473604608358796368</td>\n",
       "      <td>A Google user</td>\n",
       "      <td>Love it! Especially the new design!</td>\n",
       "      <td>5</td>\n",
       "      <td>2</td>\n",
       "      <td>1.1.0.91</td>\n",
       "      <td>2014-05-27 14:40:01</td>\n",
       "    </tr>\n",
       "    <tr>\n",
       "      <th>3</th>\n",
       "      <td>672a155a-e81e-4d28-bdeb-a74c031bc072</td>\n",
       "      <td>286593453219054880269</td>\n",
       "      <td>A Google user</td>\n",
       "      <td>Awesome UI, best music app out there!</td>\n",
       "      <td>5</td>\n",
       "      <td>1</td>\n",
       "      <td>1.1.0.91</td>\n",
       "      <td>2014-05-27 15:17:20</td>\n",
       "    </tr>\n",
       "    <tr>\n",
       "      <th>4</th>\n",
       "      <td>bbc1bf95-ed36-41a1-8b98-0f2e314caea5</td>\n",
       "      <td>167276875678680630145</td>\n",
       "      <td>A Google user</td>\n",
       "      <td>As a professional Android developer I'm glad t...</td>\n",
       "      <td>5</td>\n",
       "      <td>10</td>\n",
       "      <td>1.1.0.91</td>\n",
       "      <td>2014-05-27 15:26:48</td>\n",
       "    </tr>\n",
       "  </tbody>\n",
       "</table>\n",
       "</div>"
      ],
      "text/plain": [
       "                              review_id       pseudo_author_id    author_name  \\\n",
       "0  14a011a8-7544-47b4-8480-c502af0ac26f  152618553977019693742  A Google user   \n",
       "1  bfa8876b-470e-4640-83a7-77427f7f37e8  234382942865437071667  A Google user   \n",
       "2  70e8252f-058a-47d9-b066-df9e1571c970  174473604608358796368  A Google user   \n",
       "3  672a155a-e81e-4d28-bdeb-a74c031bc072  286593453219054880269  A Google user   \n",
       "4  bbc1bf95-ed36-41a1-8b98-0f2e314caea5  167276875678680630145  A Google user   \n",
       "\n",
       "                        google_store_review_comments  review_rating  \\\n",
       "0                                   Use it every day              5   \n",
       "1  I enjoy the awesome UI of this app, and it has...              5   \n",
       "2                Love it! Especially the new design!              5   \n",
       "3              Awesome UI, best music app out there!              5   \n",
       "4  As a professional Android developer I'm glad t...              5   \n",
       "\n",
       "   review_likes author_app_version     review_timestamp  \n",
       "0             1           1.1.0.91  2014-05-27 14:21:48  \n",
       "1             4           1.1.0.91  2014-05-27 14:36:02  \n",
       "2             2           1.1.0.91  2014-05-27 14:40:01  \n",
       "3             1           1.1.0.91  2014-05-27 15:17:20  \n",
       "4            10           1.1.0.91  2014-05-27 15:26:48  "
      ]
     },
     "execution_count": 7,
     "metadata": {},
     "output_type": "execute_result"
    }
   ],
   "source": [
    "df.rename(columns = {'review_text':'google_store_review_comments'}, inplace = True) \n",
    "csvloader_df = df.iloc[0:50, 1:]\n",
    "csvloader_df.head()"
   ]
  },
  {
   "cell_type": "code",
   "execution_count": 8,
   "metadata": {},
   "outputs": [
    {
     "data": {
      "text/plain": [
       "(50, 8)"
      ]
     },
     "execution_count": 8,
     "metadata": {},
     "output_type": "execute_result"
    }
   ],
   "source": [
    "csvloader_df.shape"
   ]
  },
  {
   "cell_type": "code",
   "execution_count": 9,
   "metadata": {},
   "outputs": [],
   "source": [
    "csvloader_df.to_csv(config['load_dataset'], index=False)"
   ]
  },
  {
   "cell_type": "code",
   "execution_count": 10,
   "metadata": {},
   "outputs": [],
   "source": [
    "from langchain_community.document_loaders.csv_loader import CSVLoader"
   ]
  },
  {
   "cell_type": "code",
   "execution_count": 11,
   "metadata": {},
   "outputs": [],
   "source": [
    "loader = CSVLoader(file_path=config['load_dataset'], source_column=\"review_id\", metadata_columns=[\"review_rating\", \"review_likes\", \"author_app_version\", \"review_timestamp\", \"pseudo_author_id\", \"author_name\", \"review_id\"])\n",
    "csvloader_data = loader.load()"
   ]
  },
  {
   "cell_type": "code",
   "execution_count": 12,
   "metadata": {},
   "outputs": [
    {
     "data": {
      "text/plain": [
       "[Document(page_content='google_store_review_comments: Use it every day', metadata={'source': '14a011a8-7544-47b4-8480-c502af0ac26f', 'row': 0, 'review_rating': '5', 'review_likes': '1', 'author_app_version': '1.1.0.91', 'review_timestamp': '2014-05-27 14:21:48', 'pseudo_author_id': '152618553977019693742', 'author_name': 'A Google user', 'review_id': '14a011a8-7544-47b4-8480-c502af0ac26f'}),\n",
       " Document(page_content='google_store_review_comments: I enjoy the awesome UI of this app, and it has all the music one can ask for.', metadata={'source': 'bfa8876b-470e-4640-83a7-77427f7f37e8', 'row': 1, 'review_rating': '5', 'review_likes': '4', 'author_app_version': '1.1.0.91', 'review_timestamp': '2014-05-27 14:36:02', 'pseudo_author_id': '234382942865437071667', 'author_name': 'A Google user', 'review_id': 'bfa8876b-470e-4640-83a7-77427f7f37e8'}),\n",
       " Document(page_content='google_store_review_comments: Love it! Especially the new design!', metadata={'source': '70e8252f-058a-47d9-b066-df9e1571c970', 'row': 2, 'review_rating': '5', 'review_likes': '2', 'author_app_version': '1.1.0.91', 'review_timestamp': '2014-05-27 14:40:01', 'pseudo_author_id': '174473604608358796368', 'author_name': 'A Google user', 'review_id': '70e8252f-058a-47d9-b066-df9e1571c970'}),\n",
       " Document(page_content='google_store_review_comments: Awesome UI, best music app out there!', metadata={'source': '672a155a-e81e-4d28-bdeb-a74c031bc072', 'row': 3, 'review_rating': '5', 'review_likes': '1', 'author_app_version': '1.1.0.91', 'review_timestamp': '2014-05-27 15:17:20', 'pseudo_author_id': '286593453219054880269', 'author_name': 'A Google user', 'review_id': '672a155a-e81e-4d28-bdeb-a74c031bc072'}),\n",
       " Document(page_content=\"google_store_review_comments: As a professional Android developer I'm glad to see the Spotify team taking security seriously. They made switching packages as painless as possible given the situation.\", metadata={'source': 'bbc1bf95-ed36-41a1-8b98-0f2e314caea5', 'row': 4, 'review_rating': '5', 'review_likes': '10', 'author_app_version': '1.1.0.91', 'review_timestamp': '2014-05-27 15:26:48', 'pseudo_author_id': '167276875678680630145', 'author_name': 'A Google user', 'review_id': 'bbc1bf95-ed36-41a1-8b98-0f2e314caea5'}),\n",
       " Document(page_content=\"google_store_review_comments: If I had to put a $ amount on how much I would have spent without Spotify, I'd say I listen to $100, worth of music a month so at $10 the app is totally worth it!\", metadata={'source': 'eac4e85c-2e13-4626-9072-5e190a285cb5', 'row': 5, 'review_rating': '5', 'review_likes': '4', 'author_app_version': '1.1.0.91', 'review_timestamp': '2014-05-27 15:34:29', 'pseudo_author_id': '279544562364680964711', 'author_name': 'A Google user', 'review_id': 'eac4e85c-2e13-4626-9072-5e190a285cb5'}),\n",
       " Document(page_content='google_store_review_comments: Connection breaks all the time in some areas', metadata={'source': 'b4aeeff2-5a4e-40d3-b0fa-7af1b46ab9dc', 'row': 6, 'review_rating': '3', 'review_likes': '0', 'author_app_version': '1.1.0.91', 'review_timestamp': '2014-05-27 15:47:39', 'pseudo_author_id': '194594231700116278497', 'author_name': 'A Google user', 'review_id': 'b4aeeff2-5a4e-40d3-b0fa-7af1b46ab9dc'}),\n",
       " Document(page_content='google_store_review_comments: Good', metadata={'source': 'e1f1e576-ecad-4771-9d02-ba2ec267e96f', 'row': 7, 'review_rating': '5', 'review_likes': '0', 'author_app_version': '1.1.0.91', 'review_timestamp': '2014-05-27 16:34:39', 'pseudo_author_id': '299572542228213240681', 'author_name': 'A Google user', 'review_id': 'e1f1e576-ecad-4771-9d02-ba2ec267e96f'}),\n",
       " Document(page_content=\"google_store_review_comments: Easy to search and discover new music and also fast enough to not give you a headache.  I can't complain\", metadata={'source': '5483e616-2c00-4c3e-8566-59b32a91b67f', 'row': 8, 'review_rating': '5', 'review_likes': '2', 'author_app_version': '1.1.0.91', 'review_timestamp': '2014-05-27 16:42:06', 'pseudo_author_id': '283295985056957279128', 'author_name': 'A Google user', 'review_id': '5483e616-2c00-4c3e-8566-59b32a91b67f'}),\n",
       " Document(page_content='google_store_review_comments: All you need for a music fan!', metadata={'source': '6d21fbe5-d16e-4859-832f-eac9998d36c3', 'row': 9, 'review_rating': '5', 'review_likes': '0', 'author_app_version': '1.1.0.91', 'review_timestamp': '2014-05-27 17:13:24', 'pseudo_author_id': '165673340173097386145', 'author_name': 'A Google user', 'review_id': '6d21fbe5-d16e-4859-832f-eac9998d36c3'})]"
      ]
     },
     "execution_count": 12,
     "metadata": {},
     "output_type": "execute_result"
    }
   ],
   "source": [
    "csvloader_data[:10]"
   ]
  },
  {
   "cell_type": "code",
   "execution_count": 13,
   "metadata": {},
   "outputs": [
    {
     "name": "stdout",
     "output_type": "stream",
     "text": [
      "Now you have 50 documents.\n"
     ]
    }
   ],
   "source": [
    "print (f'Now you have {len(csvloader_data)} documents.')"
   ]
  },
  {
   "cell_type": "code",
   "execution_count": 14,
   "metadata": {},
   "outputs": [],
   "source": [
    "from langchain.text_splitter import RecursiveCharacterTextSplitter"
   ]
  },
  {
   "cell_type": "code",
   "execution_count": 15,
   "metadata": {},
   "outputs": [],
   "source": [
    "text_splitter = RecursiveCharacterTextSplitter(\n",
    "    chunk_size=500,\n",
    "    chunk_overlap=0,\n",
    "    length_function=len,\n",
    "    is_separator_regex=False,\n",
    ")\n",
    "\n",
    "docs = text_splitter.split_documents(csvloader_data)"
   ]
  },
  {
   "cell_type": "code",
   "execution_count": 16,
   "metadata": {},
   "outputs": [
    {
     "data": {
      "text/plain": [
       "50"
      ]
     },
     "execution_count": 16,
     "metadata": {},
     "output_type": "execute_result"
    }
   ],
   "source": [
    "len(docs)"
   ]
  },
  {
   "cell_type": "code",
   "execution_count": 17,
   "metadata": {},
   "outputs": [
    {
     "name": "stdout",
     "output_type": "stream",
     "text": [
      "page_content='google_store_review_comments: Use it every day' metadata={'source': '14a011a8-7544-47b4-8480-c502af0ac26f', 'row': 0, 'review_rating': '5', 'review_likes': '1', 'author_app_version': '1.1.0.91', 'review_timestamp': '2014-05-27 14:21:48', 'pseudo_author_id': '152618553977019693742', 'author_name': 'A Google user', 'review_id': '14a011a8-7544-47b4-8480-c502af0ac26f'}\n",
      "page_content='google_store_review_comments: I enjoy the awesome UI of this app, and it has all the music one can ask for.' metadata={'source': 'bfa8876b-470e-4640-83a7-77427f7f37e8', 'row': 1, 'review_rating': '5', 'review_likes': '4', 'author_app_version': '1.1.0.91', 'review_timestamp': '2014-05-27 14:36:02', 'pseudo_author_id': '234382942865437071667', 'author_name': 'A Google user', 'review_id': 'bfa8876b-470e-4640-83a7-77427f7f37e8'}\n",
      "page_content='google_store_review_comments: Love it! Especially the new design!' metadata={'source': '70e8252f-058a-47d9-b066-df9e1571c970', 'row': 2, 'review_rating': '5', 'review_likes': '2', 'author_app_version': '1.1.0.91', 'review_timestamp': '2014-05-27 14:40:01', 'pseudo_author_id': '174473604608358796368', 'author_name': 'A Google user', 'review_id': '70e8252f-058a-47d9-b066-df9e1571c970'}\n",
      "page_content='google_store_review_comments: Awesome UI, best music app out there!' metadata={'source': '672a155a-e81e-4d28-bdeb-a74c031bc072', 'row': 3, 'review_rating': '5', 'review_likes': '1', 'author_app_version': '1.1.0.91', 'review_timestamp': '2014-05-27 15:17:20', 'pseudo_author_id': '286593453219054880269', 'author_name': 'A Google user', 'review_id': '672a155a-e81e-4d28-bdeb-a74c031bc072'}\n",
      "page_content=\"google_store_review_comments: As a professional Android developer I'm glad to see the Spotify team taking security seriously. They made switching packages as painless as possible given the situation.\" metadata={'source': 'bbc1bf95-ed36-41a1-8b98-0f2e314caea5', 'row': 4, 'review_rating': '5', 'review_likes': '10', 'author_app_version': '1.1.0.91', 'review_timestamp': '2014-05-27 15:26:48', 'pseudo_author_id': '167276875678680630145', 'author_name': 'A Google user', 'review_id': 'bbc1bf95-ed36-41a1-8b98-0f2e314caea5'}\n",
      "page_content=\"google_store_review_comments: If I had to put a $ amount on how much I would have spent without Spotify, I'd say I listen to $100, worth of music a month so at $10 the app is totally worth it!\" metadata={'source': 'eac4e85c-2e13-4626-9072-5e190a285cb5', 'row': 5, 'review_rating': '5', 'review_likes': '4', 'author_app_version': '1.1.0.91', 'review_timestamp': '2014-05-27 15:34:29', 'pseudo_author_id': '279544562364680964711', 'author_name': 'A Google user', 'review_id': 'eac4e85c-2e13-4626-9072-5e190a285cb5'}\n",
      "page_content='google_store_review_comments: Connection breaks all the time in some areas' metadata={'source': 'b4aeeff2-5a4e-40d3-b0fa-7af1b46ab9dc', 'row': 6, 'review_rating': '3', 'review_likes': '0', 'author_app_version': '1.1.0.91', 'review_timestamp': '2014-05-27 15:47:39', 'pseudo_author_id': '194594231700116278497', 'author_name': 'A Google user', 'review_id': 'b4aeeff2-5a4e-40d3-b0fa-7af1b46ab9dc'}\n",
      "page_content='google_store_review_comments: Good' metadata={'source': 'e1f1e576-ecad-4771-9d02-ba2ec267e96f', 'row': 7, 'review_rating': '5', 'review_likes': '0', 'author_app_version': '1.1.0.91', 'review_timestamp': '2014-05-27 16:34:39', 'pseudo_author_id': '299572542228213240681', 'author_name': 'A Google user', 'review_id': 'e1f1e576-ecad-4771-9d02-ba2ec267e96f'}\n",
      "page_content=\"google_store_review_comments: Easy to search and discover new music and also fast enough to not give you a headache.  I can't complain\" metadata={'source': '5483e616-2c00-4c3e-8566-59b32a91b67f', 'row': 8, 'review_rating': '5', 'review_likes': '2', 'author_app_version': '1.1.0.91', 'review_timestamp': '2014-05-27 16:42:06', 'pseudo_author_id': '283295985056957279128', 'author_name': 'A Google user', 'review_id': '5483e616-2c00-4c3e-8566-59b32a91b67f'}\n",
      "page_content='google_store_review_comments: All you need for a music fan!' metadata={'source': '6d21fbe5-d16e-4859-832f-eac9998d36c3', 'row': 9, 'review_rating': '5', 'review_likes': '0', 'author_app_version': '1.1.0.91', 'review_timestamp': '2014-05-27 17:13:24', 'pseudo_author_id': '165673340173097386145', 'author_name': 'A Google user', 'review_id': '6d21fbe5-d16e-4859-832f-eac9998d36c3'}\n"
     ]
    }
   ],
   "source": [
    "for doc in docs[:10]:\n",
    "    print(doc)"
   ]
  },
  {
   "cell_type": "markdown",
   "metadata": {},
   "source": [
    "<span style=\"color:red\">**Warning**:</span> Skip or comment this step inside the line if you already upsert the document to Pincone Database. Contiune, if you wanna update the current embedding documents or upsert new documents.\n",
    "\n",
    "---\n",
    "\n",
    "Upsert the embedded data as vector to the Pincone or vector database, it will be replace the current vector document with the new embedded document as vectors."
   ]
  },
  {
   "cell_type": "code",
   "execution_count": 18,
   "metadata": {},
   "outputs": [],
   "source": [
    "with open('.creds') as f:\n",
    "    os.environ.update(\n",
    "        line.strip().split('=') for line in f\n",
    ")"
   ]
  },
  {
   "cell_type": "code",
   "execution_count": 19,
   "metadata": {},
   "outputs": [],
   "source": [
    "OPENAI_API_KEY = os.environ.get('OPENAI_API_KEY')\n",
    "PINECONE_API_KEY = os.environ.get('PINECONE_API_KEY')\n",
    "PINECONE_INDEX = os.environ.get('PINECONE_INDEX')"
   ]
  },
  {
   "cell_type": "code",
   "execution_count": 20,
   "metadata": {},
   "outputs": [],
   "source": [
    "from langchain_openai import OpenAIEmbeddings\n",
    "from langchain_pinecone import Pinecone"
   ]
  },
  {
   "cell_type": "code",
   "execution_count": 21,
   "metadata": {},
   "outputs": [
    {
     "name": "stdout",
     "output_type": "stream",
     "text": [
      "Length of IDs : 50\n",
      "First 10 IDs  : ['id-0', 'id-1', 'id-2', 'id-3', 'id-4', 'id-5', 'id-6', 'id-7', 'id-8', 'id-9']\n",
      "Last 10 IDs   : ['id-40', 'id-41', 'id-42', 'id-43', 'id-44', 'id-45', 'id-46', 'id-47', 'id-48', 'id-49']\n"
     ]
    }
   ],
   "source": [
    "# Set IDs\n",
    "ids = [f'id-{i}' for i in range(len(docs))]\n",
    "print(f'Length of IDs : {len(ids)}')\n",
    "print(f'First 10 IDs  : {ids[:10]}')\n",
    "print(f'Last 10 IDs   : {ids[-10:]}')"
   ]
  },
  {
   "cell_type": "code",
   "execution_count": 22,
   "metadata": {},
   "outputs": [],
   "source": [
    "# Set Namespace\n",
    "ns = 'ns0'"
   ]
  },
  {
   "cell_type": "code",
   "execution_count": 23,
   "metadata": {},
   "outputs": [],
   "source": [
    "try:\n",
    "    embeddings = OpenAIEmbeddings(model=\"text-embedding-3-large\", dimensions=1536)\n",
    "    docsearch = Pinecone.from_documents(docs, embeddings, index_name=PINECONE_INDEX, namespace=ns, ids=ids)\n",
    "except Exception as e:\n",
    "    raise(e)"
   ]
  },
  {
   "cell_type": "markdown",
   "metadata": {},
   "source": [
    "---"
   ]
  },
  {
   "cell_type": "code",
   "execution_count": 28,
   "metadata": {},
   "outputs": [],
   "source": [
    "query = \"What are the specific features or aspects that users appreciate the most in our application?\"\n",
    "docs = docsearch.similarity_search(query, namespace=ns)"
   ]
  },
  {
   "cell_type": "code",
   "execution_count": 29,
   "metadata": {},
   "outputs": [
    {
     "data": {
      "text/plain": [
       "[Document(page_content='google_store_review_comments: Awesome UI, best music app out there!', metadata={'author_app_version': '1.1.0.91', 'author_name': 'A Google user', 'pseudo_author_id': '286593453219054880269', 'review_id': '672a155a-e81e-4d28-bdeb-a74c031bc072', 'review_likes': '1', 'review_rating': '5', 'review_timestamp': '2014-05-27 15:17:20', 'row': 3.0, 'source': '672a155a-e81e-4d28-bdeb-a74c031bc072'}),\n",
       " Document(page_content='google_store_review_comments: I enjoy the awesome UI of this app, and it has all the music one can ask for.', metadata={'author_app_version': '1.1.0.91', 'author_name': 'A Google user', 'pseudo_author_id': '234382942865437071667', 'review_id': 'bfa8876b-470e-4640-83a7-77427f7f37e8', 'review_likes': '4', 'review_rating': '5', 'review_timestamp': '2014-05-27 14:36:02', 'row': 1.0, 'source': 'bfa8876b-470e-4640-83a7-77427f7f37e8'}),\n",
       " Document(page_content='google_store_review_comments: Excellent music app', metadata={'author_app_version': '1.1.0.112', 'author_name': 'A Google user', 'pseudo_author_id': '199796654142891370101', 'review_id': '7ded6bd3-37a2-4283-bf22-10286a70f71b', 'review_likes': '1', 'review_rating': '4', 'review_timestamp': '2014-05-27 18:40:42', 'row': 13.0, 'source': '7ded6bd3-37a2-4283-bf22-10286a70f71b'}),\n",
       " Document(page_content='google_store_review_comments: Just started using this app n loving it already  Keep up the great work', metadata={'author_app_version': '1.1.0.112', 'author_name': 'A Google user', 'pseudo_author_id': '264385232751371829139', 'review_id': 'f4e63586-3b96-4789-ba43-b571f90a8ea5', 'review_likes': '0', 'review_rating': '4', 'review_timestamp': '2014-05-27 22:21:41', 'row': 48.0, 'source': 'f4e63586-3b96-4789-ba43-b571f90a8ea5'})]"
      ]
     },
     "execution_count": 29,
     "metadata": {},
     "output_type": "execute_result"
    }
   ],
   "source": [
    "docs"
   ]
  }
 ],
 "metadata": {
  "kernelspec": {
   "display_name": ".qna-chatbot-venv",
   "language": "python",
   "name": "python3"
  },
  "language_info": {
   "codemirror_mode": {
    "name": "ipython",
    "version": 3
   },
   "file_extension": ".py",
   "mimetype": "text/x-python",
   "name": "python",
   "nbconvert_exporter": "python",
   "pygments_lexer": "ipython3",
   "version": "3.10.12"
  }
 },
 "nbformat": 4,
 "nbformat_minor": 2
}
